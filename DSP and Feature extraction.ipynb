{
 "cells": [
  {
   "cell_type": "markdown",
   "metadata": {},
   "source": [
    "# Introduction to Signal Representation and Feature Extraction\n",
    "\n",
    "In this notebook, we will explore the basics of signal representation and feature extraction. We will start with basic signal representation techniques, then move on to feature extraction, and finally cover optimization-based feature extraction."
   ]
  },
  {
   "cell_type": "markdown",
   "metadata": {},
   "source": [
    "## 1. Setting Up the Environment\n",
    "\n",
    "First, we need to install the necessary libraries and import them."
   ]
  },
  {
   "cell_type": "code",
   "execution_count": null,
   "metadata": {},
   "outputs": [],
   "source": [
    "!pip install numpy scipy matplotlib librosa"
   ]
  },
  {
   "cell_type": "code",
   "execution_count": null,
   "metadata": {},
   "outputs": [],
   "source": [
    "import numpy as np\n",
    "import matplotlib.pyplot as plt\n",
    "from scipy.signal import chirp, spectrogram\n",
    "import librosa\n",
    "import librosa.display"
   ]
  },
  {
   "cell_type": "markdown",
   "metadata": {},
   "source": [
    "## 2. Basic Signal Representation\n",
    "\n",
    "Let's start by generating and visualizing a basic signal."
   ]
  },
  {
   "cell_type": "code",
   "execution_count": null,
   "metadata": {},
   "outputs": [],
   "source": [
    "# Generate a simple chirp signal\n",
    "fs = 1000  # Sampling frequency\n",
    "t = np.linspace(0, 10, fs * 10)  # Time vector\n",
    "signal = chirp(t, f0=6, f1=1, t1=10, method='linear')\n",
    "\n",
    "# Plot the signal\n",
    "plt.figure(figsize=(10, 4))\n",
    "plt.plot(t, signal)\n",
    "plt.title('Chirp Signal')\n",
    "plt.xlabel('Time [s]')\n",
    "plt.ylabel('Amplitude')\n",
    "plt.grid()\n",
    "plt.show()"
   ]
  },
  {
   "cell_type": "markdown",
   "metadata": {},
   "source": [
    "## 3. Feature Extraction\n",
    "\n",
    "### 3.1 Time-Domain Features\n",
    "\n",
    "Time-domain features are directly extracted from the signal waveform. Common features include mean, variance, skewness, and kurtosis."
   ]
  },
  {
   "cell_type": "code",
   "execution_count": null,
   "metadata": {},
   "outputs": [],
   "source": [
    "# Calculate time-domain features\n",
    "mean = np.mean(signal)\n",
    "variance = np.var(signal)\n",
    "skewness = np.mean((signal - mean)**3) / (np.std(signal)**3)\n",
    "kurtosis = np.mean((signal - mean)**4) / (np.std(signal)**4)\n",
    "\n",
    "# Print the features\n",
    "print(f'Mean: {mean}')\n",
    "print(f'Variance: {variance}')\n",
    "print(f'Skewness: {skewness}')\n",
    "print(f'Kurtosis: {kurtosis}')"
   ]
  },
  {
   "cell_type": "markdown",
   "metadata": {},
   "source": [
    "### 3.2 Frequency-Domain Features\n",
    "\n",
    "Frequency-domain features are extracted from the frequency representation of the signal, typically using the Fast Fourier Transform (FFT)."
   ]
  },
  {
   "cell_type": "code",
   "execution_count": null,
   "metadata": {},
   "outputs": [],
   "source": [
    "# Calculate the FFT of the signal\n",
    "fft_signal = np.fft.fft(signal)\n",
    "frequencies = np.fft.fftfreq(len(signal), 1/fs)\n",
    "\n",
    "# Plot the FFT\n",
    "plt.figure(figsize=(10, 4))\n",
    "plt.plot(frequencies, np.abs(fft_signal))\n",
    "plt.title('FFT of the Chirp Signal')\n",
    "plt.xlabel('Frequency [Hz]')\n",
    "plt.ylabel('Magnitude')\n",
    "plt.grid()\n",
    "plt.show()"
   ]
  },
  {
   "cell_type": "markdown",
   "metadata": {},
   "source": [
    "### 3.3 Time-Frequency Features\n",
    "\n",
    "Time-frequency features are extracted using techniques like Short-Time Fourier Transform (STFT) or wavelet transform."
   ]
  },
  {
   "cell_type": "code",
   "execution_count": null,
   "metadata": {},
   "outputs": [],
   "source": [
    "# Calculate the spectrogram of the signal\n",
    "frequencies, times, Sxx = spectrogram(signal, fs)\n",
    "\n",
    "# Plot the spectrogram\n",
    "plt.figure(figsize=(10, 4))\n",
    "plt.pcolormesh(times, frequencies, 10 * np.log10(Sxx))\n",
    "plt.title('Spectrogram of the Chirp Signal')\n",
    "plt.xlabel('Time [s]')\n",
    "plt.ylabel('Frequency [Hz]')\n",
    "plt.colorbar(label='Intensity [dB]')\n",
    "plt.show()"
   ]
  },
  {
   "cell_type": "markdown",
   "metadata": {},
   "source": [
    "## 4. Optimization-Based Feature Extraction\n",
    "\n",
    "Optimization-based feature extraction methods aim to find the most relevant features that improve the performance of machine learning models."
   ]
  },
  {
   "cell_type": "markdown",
   "metadata": {},
   "source": [
    "### 4.1 Principal Component Analysis (PCA)\n",
    "\n",
    "PCA is a dimensionality reduction technique that transforms the features into a new set of uncorrelated variables, ordered by the amount of variance they capture."
   ]
  },
  {
   "cell_type": "code",
   "execution_count": null,
   "metadata": {},
   "outputs": [],
   "source": [
    "from sklearn.decomposition import PCA\n",
    "\n",
    "# Simulate some data for PCA\n",
    "np.random.seed(42)\n",
    "data = np.random.rand(100, 5)  # 100 samples, 5 features\n",
    "\n",
    "# Apply PCA\n",
    "pca = PCA(n_components=2)  # Reduce to 2 components\n",
    "principal_components = pca.fit_transform(data)\n",
    "\n",
    "# Print the explained variance ratio\n",
    "print(f'Explained variance ratio: {pca.explained_variance_ratio_}')\n",
    "\n",
    "# Plot the principal components\n",
    "plt.figure(figsize=(8, 6))\n",
    "plt.scatter(principal_components[:, 0], principal_components[:, 1])\n",
    "plt.title('PCA of Simulated Data')\n",
    "plt.xlabel('Principal Component 1')\n",
    "plt.ylabel('Principal Component 2')\n",
    "plt.grid()\n",
    "plt.show()"
   ]
  },
  {
   "cell_type": "markdown",
   "metadata": {},
   "source": [
    "### 4.2 Independent Component Analysis (ICA)\n",
    "\n",
    "ICA is a computational method for separating a multivariate signal into additive, independent components."
   ]
  },
  {
   "cell_type": "code",
   "execution_count": null,
   "metadata": {},
   "outputs": [],
   "source": [
    "from sklearn.decomposition import FastICA\n",
    "\n",
    "# Apply ICA\n",
    "ica = FastICA(n_components=2)  # Reduce to 2 components\n",
    "independent_components = ica.fit_transform(data)\n",
    "\n",
    "# Plot the independent components\n",
    "plt.figure(figsize=(8, 6))\n",
    "plt.scatter(independent_components[:, 0], independent_components[:, 1])\n",
    "plt.title('ICA of Simulated Data')\n",
    "plt.xlabel('Independent Component 1')\n",
    "plt.ylabel('Independent Component 2')\n",
    "plt.grid()\n",
    "plt.show()"
   ]
  },
  {
   "cell_type": "markdown",
   "metadata": {},
   "source": [
    "# Conclusion\n",
    "\n",
    "In this notebook, we explored the basics of signal representation and feature extraction, including optimization-based feature extraction techniques like PCA and ICA. This should give you a good starting point for further exploration into signal processing and feature extraction."
   ]
  }
 ],
 "metadata": {
  "kernelspec": {
   "display_name": "Python 3",
   "language": "python",
   "name": "python3"
  },
  "language_info": {
   "codemirror_mode": {
    "name": "ipython",
    "version": 3
   },
   "file_extension": ".py",
   "mimetype": "text/x-python",
   "name": "python",
   "nbconvert_exporter": "python",
   "pygments_lexer": "ipython3",
   "version": "3.8.5"
  }
 },
 "nbformat": 4,
 "nbformat_minor": 4
}
